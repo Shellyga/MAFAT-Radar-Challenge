{
  "nbformat": 4,
  "nbformat_minor": 0,
  "metadata": {
    "kernelspec": {
      "display_name": "Python 3",
      "language": "python",
      "name": "python3"
    },
    "language_info": {
      "codemirror_mode": {
        "name": "ipython",
        "version": 3
      },
      "file_extension": ".py",
      "mimetype": "text/x-python",
      "name": "python",
      "nbconvert_exporter": "python",
      "pygments_lexer": "ipython3",
      "version": "3.7.4"
    },
    "colab": {
      "name": "Copy of MAFAT Radar Challenge - Baseline CNN Model.ipynb",
      "provenance": [],
      "collapsed_sections": [],
      "toc_visible": true,
      "include_colab_link": true
    }
  },
  "cells": [
    {
      "cell_type": "markdown",
      "metadata": {
        "id": "view-in-github",
        "colab_type": "text"
      },
      "source": [
        "<a href=\"https://colab.research.google.com/github/Shellyga/MAFAT-Radar-Challenge/blob/master/Copy_of_MAFAT_Radar_Challenge_Baseline_CNN_Model.ipynb\" target=\"_parent\"><img src=\"https://colab.research.google.com/assets/colab-badge.svg\" alt=\"Open In Colab\"/></a>"
      ]
    },
    {
      "cell_type": "markdown",
      "metadata": {
        "id": "Pp9FJgl5VfPx",
        "colab_type": "text"
      },
      "source": [
        "#**MAFAT Radar Challenge - Baseline Model**\n",
        "\n",
        "In this notebook, a Convolutional Neural Network (CNN) baseline model is presented. \n",
        "\n",
        "The model is trained on the training and auxiliary datasets.   \n",
        "In the end, a submission file with predictions for the public test set is being created and downloaded.\n",
        "\n",
        "The raw input for the model is the segments I/Q matrices.   \n",
        "Note that this is a simplistic baseline model. The model should only be used as a boilerplate code to boost development and to accelerate participants' orientation phase. Participants are encouraged to explore different, more creative, approaches, such as data augmentation, unsupervised pre-training/autoencoders, RNNs/transformers, signal processing, feature engineering, transfer learning, etc.   \n",
        "   \n",
        "To learn more about signals, I/Q, Doppler and other terms please go to [Resources](https://competitions.codalab.org/competitions/25389#learn_the_details-resources) on the competition website.    \n",
        "Please read the [Descriptive Statistics notebook](https://colab.research.google.com/drive/11Lzihg2vKIbo4KAIIJxW5CRZIncoWgtL?usp=sharing) to get familiar with the data.\n",
        "   \n",
        "Submissions are evaluated on the area under the Receiver Operating Characteristic Curve ([ROC AUC](https://en.wikipedia.org/wiki/Receiver_operating_characteristic)).   \n",
        "**The baseline model final result on the public test set is:   \n",
        " 0.73 ROC AUC.**\n",
        "\n",
        "[Competition website](https://competitions.codalab.org/competitions/25389)   \n",
        "[MAFAT Challenge homepage](https://mafatchallenge.mod.gov.il/)"
      ]
    },
    {
      "cell_type": "markdown",
      "metadata": {
        "id": "6AaZtlvVZ-2T",
        "colab_type": "text"
      },
      "source": [
        "## **Setup**"
      ]
    },
    {
      "cell_type": "code",
      "metadata": {
        "id": "BTKVzcpr55s7",
        "colab_type": "code",
        "colab": {
          "base_uri": "https://localhost:8080/",
          "height": 201
        },
        "outputId": "e467ff6d-3403-4394-e730-05377c638b61"
      },
      "source": [
        "!pip install tensorflow-determinism"
      ],
      "execution_count": 1,
      "outputs": [
        {
          "output_type": "stream",
          "text": [
            "Collecting tensorflow-determinism\n",
            "  Downloading https://files.pythonhosted.org/packages/76/56/79d74f25b326d8719753172496abc524980fa67d1d98bb247021376e370a/tensorflow-determinism-0.3.0.tar.gz\n",
            "Building wheels for collected packages: tensorflow-determinism\n",
            "  Building wheel for tensorflow-determinism (setup.py) ... \u001b[?25l\u001b[?25hdone\n",
            "  Created wheel for tensorflow-determinism: filename=tensorflow_determinism-0.3.0-cp36-none-any.whl size=9156 sha256=01cd9c65ffd297e6a482f1fd2444a2ecb6ea31fad961085968ceb85331a65514\n",
            "  Stored in directory: /root/.cache/pip/wheels/66/c3/18/13959a90d3e0d10182a99866d6ff4d0119e9daed6ce014b54c\n",
            "Successfully built tensorflow-determinism\n",
            "Installing collected packages: tensorflow-determinism\n",
            "Successfully installed tensorflow-determinism-0.3.0\n"
          ],
          "name": "stdout"
        }
      ]
    },
    {
      "cell_type": "code",
      "metadata": {
        "id": "kSMa29SfVfPy",
        "colab_type": "code",
        "colab": {
          "base_uri": "https://localhost:8080/",
          "height": 35
        },
        "outputId": "0abbc358-cf74-4109-cae1-5c2b21ad9a91"
      },
      "source": [
        "import os\n",
        "import random\n",
        "import pickle\n",
        "import pandas as pd\n",
        "import matplotlib.pyplot as plt\n",
        "import numpy as np\n",
        "import tensorflow as tf\n",
        "\n",
        "from tensorflow.keras import backend as K\n",
        "from tensorflow.keras.models import Sequential, load_model\n",
        "from tensorflow.keras.layers import Dense, Flatten, Conv2D, MaxPooling2D, Dropout\n",
        "from tensorflow.keras.losses import BinaryCrossentropy\n",
        "from tensorflow.keras.optimizers import Adam\n",
        "from tensorflow.keras.metrics import AUC\n",
        "from sklearn.metrics import roc_auc_score, roc_curve, auc\n",
        "from matplotlib.colors import LinearSegmentedColormap\n",
        "from termcolor import colored\n",
        "\n",
        "# Set seed for reproducibility of results\n",
        "seed_value = 0\n",
        "os.environ['PYTHONHASHSEED']=str(seed_value)\n",
        "os.environ['TF_CUDNN_DETERMINISTIC'] = '1'\n",
        "\n",
        "tf.compat.v1.reset_default_graph()\n",
        "\n",
        "random.seed(seed_value)\n",
        "np.random.seed(seed_value)\n",
        "tf.random.set_seed(seed_value)\n",
        "tf.compat.v1.set_random_seed(seed_value)\n",
        "\n",
        "# Configure a new global `tensorflow` session\n",
        "session_conf = tf.compat.v1.ConfigProto(intra_op_parallelism_threads=1, inter_op_parallelism_threads=1)\n",
        "sess = tf.compat.v1.Session(graph=tf.compat.v1.get_default_graph(), config=session_conf)\n",
        "tf.compat.v1.keras.backend.set_session(sess)\n",
        "\n",
        "tf.__version__"
      ],
      "execution_count": 2,
      "outputs": [
        {
          "output_type": "execute_result",
          "data": {
            "application/vnd.google.colaboratory.intrinsic+json": {
              "type": "string"
            },
            "text/plain": [
              "'2.2.0'"
            ]
          },
          "metadata": {
            "tags": []
          },
          "execution_count": 2
        }
      ]
    },
    {
      "cell_type": "code",
      "metadata": {
        "id": "U4CQDksDbfl_",
        "colab_type": "code",
        "colab": {
          "base_uri": "https://localhost:8080/",
          "height": 128
        },
        "outputId": "d8fe8c20-9edc-4818-d43a-96003484e538"
      },
      "source": [
        "from google.colab import drive\n",
        "mount_path = '/content/gdrive/'\n",
        "drive.mount(mount_path)"
      ],
      "execution_count": 3,
      "outputs": [
        {
          "output_type": "stream",
          "text": [
            "Go to this URL in a browser: https://accounts.google.com/o/oauth2/auth?client_id=947318989803-6bn6qk8qdgf4n4g3pfee6491hc0brc4i.apps.googleusercontent.com&redirect_uri=urn%3aietf%3awg%3aoauth%3a2.0%3aoob&response_type=code&scope=email%20https%3a%2f%2fwww.googleapis.com%2fauth%2fdocs.test%20https%3a%2f%2fwww.googleapis.com%2fauth%2fdrive%20https%3a%2f%2fwww.googleapis.com%2fauth%2fdrive.photos.readonly%20https%3a%2f%2fwww.googleapis.com%2fauth%2fpeopleapi.readonly\n",
            "\n",
            "Enter your authorization code:\n",
            "··········\n",
            "Mounted at /content/gdrive/\n"
          ],
          "name": "stdout"
        }
      ]
    },
    {
      "cell_type": "code",
      "metadata": {
        "id": "f5ZPU_OAXlFl",
        "colab_type": "code",
        "colab": {
          "base_uri": "https://localhost:8080/",
          "height": 35
        },
        "outputId": "e888bcd5-bd40-450f-f15e-7cb764ed0f7d"
      },
      "source": [
        "# Set and test path to competition data files\n",
        "# competition_path = 'INSERT HERE'\n",
        "competition_path = '/My Drive/Data'\n",
        "try:\n",
        "  if competition_path == 'INSERT HERE':\n",
        "    print('Please enter path to competition data files:')\n",
        "    competition_path = input()\n",
        "  file_path = 'MAFAT RADAR Challenge - Training Set V1.csv'\n",
        "  with open(f'{mount_path}/{competition_path}/{file_path}') as f:\n",
        "    f.readlines()\n",
        "  print(colored('Everything is setup correctly', color='green'))\n",
        "except:\n",
        "  print(colored('Please mount drive and set competition_path correctly',\n",
        "                color='red'))"
      ],
      "execution_count": 4,
      "outputs": [
        {
          "output_type": "stream",
          "text": [
            "\u001b[32mEverything is setup correctly\u001b[0m\n"
          ],
          "name": "stdout"
        }
      ]
    },
    {
      "cell_type": "markdown",
      "metadata": {
        "id": "TXzT9M3g8BFF",
        "colab_type": "text"
      },
      "source": [
        "## **Functions**\n",
        "\n",
        "All functions will be used in the \"Training the Model\" section."
      ]
    },
    {
      "cell_type": "markdown",
      "metadata": {
        "id": "3wXAsRDv7noG",
        "colab_type": "text"
      },
      "source": [
        "### **Data loading**"
      ]
    },
    {
      "cell_type": "code",
      "metadata": {
        "id": "XUyOVa6OVfP3",
        "colab_type": "code",
        "colab": {}
      },
      "source": [
        "# Functions for loading the data\n",
        "def load_data(file_path):\n",
        "  \"\"\"\n",
        "  Reads all data files (metadata and signal matrix data) as python dictionary,\n",
        "  the pkl and csv files must have the same file name.\n",
        "\n",
        "  Arguments:\n",
        "    file_path -- {str} -- path to the iq_matrix file and metadata file\n",
        "\n",
        "  Returns:\n",
        "    Python dictionary\n",
        "  \"\"\"\n",
        "  pkl = load_pkl_data(file_path)\n",
        "  meta = load_csv_metadata(file_path)\n",
        "  data_dictionary = {**meta, **pkl}\n",
        "  \n",
        "  for key in data_dictionary.keys():\n",
        "    data_dictionary[key] = np.array(data_dictionary[key])\n",
        "\n",
        "  return data_dictionary\n",
        "\n",
        "\n",
        "def load_pkl_data(file_path):\n",
        "  \"\"\"\n",
        "  Reads pickle file as a python dictionary (only Signal data).\n",
        "\n",
        "  Arguments:\n",
        "    file_path -- {str} -- path to pickle iq_matrix file\n",
        "\n",
        "  Returns:\n",
        "    Python dictionary\n",
        "  \"\"\"\n",
        "  # path = os.path.join(mount_path, competition_path, file_path + '.pkl')\n",
        "  # print(mount_path)\n",
        "  # print(path)\n",
        "  part_path = '/content/gdrive/My Drive/Data/'\n",
        "  path = os.path.join(part_path, file_path + '.pkl')\n",
        "  with open(path, 'rb') as data:\n",
        "    output = pickle.load(data)\n",
        "  return output\n",
        "\n",
        "\n",
        "def load_csv_metadata(file_path):\n",
        "  \"\"\"\n",
        "  Reads csv as pandas DataFrame (only Metadata).\n",
        "\n",
        "  Arguments:\n",
        "    file_path -- {str} -- path to csv metadata file\n",
        "\n",
        "  Returns:\n",
        "    Pandas DataFarme\n",
        "  \"\"\"\n",
        "  # path = os.path.join(mount_path, competition_path, file_path + '.csv')\n",
        "  part_path = '/content/gdrive/My Drive/Data/'\n",
        "  path = os.path.join(part_path, file_path + '.csv')\n",
        "  with open(path, 'rb') as data:\n",
        "    output = pd.read_csv(data)\n",
        "  return output"
      ],
      "execution_count": 5,
      "outputs": []
    },
    {
      "cell_type": "markdown",
      "metadata": {
        "id": "D1xzWMMFVfP2",
        "colab_type": "text"
      },
      "source": [
        "## **Data Preprocessing**\n",
        "**The preprocessing main steps:**   \n",
        "1. Applying [DFT](https://en.wikipedia.org/wiki/Discrete_Fourier_transform) (Discrete Fourier transform) by using the fast Fourier transform algorithm ([FFT](https://en.wikipedia.org/wiki/Fast_Fourier_transform)) and [Hann function](https://www.mathworks.com/help/signal/ref/hann.html) to smooth the I/Q matrix. Afterward, calculating the absolute value of the I/Q matrix complex numbers.   \n",
        "More information about Windowing and Hann function:   \n",
        "[Wikipedia Hann](https://en.wikipedia.org/wiki/Hann_function#:~:text=The%20Hann%20function%20of%20length,can%20be%20even%20or%20odd.)   \n",
        "[Wikipedia Window function](https://en.wikipedia.org/wiki/Window_function)   \n",
        "2. Set max value on the center of the target's mass.   \n",
        "The doppler burst is a vector (1 x 32) that marks the center of the target's mass on each I/Q matrix in every time unit (32 time-units).   \n",
        "The preprocess sets the maximum value of each I/Q matrix in-place of the values at the center of the target's mass.\n",
        "3. Normalization - Transforming I/Q matrix values to standardized values.   \n",
        "Subtraction of the mean and division by the standard deviation.\n",
        "\n",
        "**Preprocessing main steps explained:**   \n",
        "The DFT converts a signal from its original domain (often time or space) to a representation in the frequency domain and vice versa.   \n",
        "The I/Q matrix in this challenge is being converted from the velocity domain to the frequency domain.\n",
        "Windows (like \"Hann\") are used to reduce spectral leakage when performing a Fourier Transform on time data and converting it into the frequency domain.\n",
        "\n",
        "The purpose of switching the values of the center of the target's mass in the I/Q matrix with the max value of the matrix is to enhance this part of the matrix and focus the model on this part.\n",
        "\n",
        "\n",
        "Finally, the normalization is used for scaling all the I/Q matrices.\n",
        "\n",
        "* *Note: the target_type lables are strings (\"human\" and \"animal\"), the data_preprocess function replaces them to \"human\" = 1 and \"animal\" = 0.*   \n",
        "   \n",
        "\n",
        "\n",
        "**The FFT Process Explained:**   \n",
        "The IQ matrix contains 32 x 128 elements being 128 I/Q time data samples within a single radar processing time frame and 32 consecutive such time units. The X-axis represents the pulse transmission time, also known as “slow-time”. The Y-axis represents the reception time of signals with respect to pulse transmission time divided into 128 equal sized bins, also known as “fast-time”. The reason FFT is performed on the ‘fast time’ axis (i.e. 128 samples) rather than on the ‘slow time’ axis (i.e. 32 samples) is a matter of scale. An underlying assumption for an effective FFT analysis is that ‘acceleration’ during the time frame represented by the data is very low. Given the type of motion presented by humans and animals only the ‘fast time’ axis complies with this assumption.\n",
        "Therefore, FFT processing should be applied over the dimension of 128 I/Q time samples to get the frequency content of the returned radar signal at each time frame. A spectrogram (as shown in the samples) is generated by attaching together 32 consecutive FFT results (please note that besides FFT processing some additional manipulation is required to properly display a spectrogram – like taking a LOG of the absolute value and passing a threshold – this is well detailed in the ‘Processing’ section of the competition notebook). Therefore, a spectrogram would eventually provide a display of how the frequency content of the returned signal is changing along time."
      ]
    },
    {
      "cell_type": "code",
      "metadata": {
        "id": "ySJCkwAe76KB",
        "colab_type": "code",
        "colab": {}
      },
      "source": [
        "# Functions for preprocessing and preprocess function\n",
        "def fft(iq, axis=0):\n",
        "  \"\"\"\n",
        "  Computes the log of discrete Fourier Transform (DFT).\n",
        "     \n",
        "  Arguments:\n",
        "    iq_burst -- {ndarray} -- 'iq_sweep_burst' array\n",
        "    axis -- {int} -- axis to perform fft in (Default = 0)\n",
        "\n",
        "  Returns:\n",
        "    log of DFT on iq_burst array\n",
        "  \"\"\"\n",
        "  iq = np.log(np.abs(np.fft.fft(hann(iq), axis=axis)))\n",
        "  return iq\n",
        "\n",
        "\n",
        "def hann(iq, window=None):\n",
        "    \"\"\"\n",
        "    Preformes Hann smoothing of 'iq_sweep_burst'.\n",
        "\n",
        "    Arguments:\n",
        "      iq {ndarray} -- 'iq_sweep_burst' array\n",
        "      window -{range} -- range of hann window indices (Default=None)\n",
        "               if None the whole column is taken\n",
        "\n",
        "    Returns:\n",
        "      Regulazied iq in shape - (window[1] - window[0] - 2, iq.shape[1])\n",
        "    \"\"\"\n",
        "    if window is None:\n",
        "        window = [0, len(iq)]\n",
        "\n",
        "    N = window[1] - window[0] - 1\n",
        "    n = np.arange(window[0], window[1])\n",
        "    n = n.reshape(len(n), 1)\n",
        "    hannCol = 0.5 * (1 - np.cos(2 * np.pi * (n / N)))\n",
        "    return (hannCol * iq[window[0]:window[1]])[1:-1]\n",
        "\n",
        "\n",
        "def max_value_on_doppler(iq, doppler_burst):\n",
        "  \"\"\"\n",
        "  Set max value on I/Q matrix using doppler burst vector. \n",
        "     \n",
        "  Arguments:\n",
        "    iq_burst -- {ndarray} -- 'iq_sweep_burst' array\n",
        "    doppler_burst -- {ndarray} -- 'doppler_burst' array (center of mass)\n",
        "               \n",
        "  Returns:\n",
        "    I/Q matrix with the max value instead of the original values\n",
        "    The doppler burst marks the matrix values to change by max value\n",
        "  \"\"\"\n",
        "  iq_max_value = np.max(iq)\n",
        "  for i in range(iq.shape[1]):\n",
        "    if doppler_burst[i]>=len(iq):\n",
        "       continue\n",
        "    iq[doppler_burst[i], i] = iq_max_value\n",
        "  return iq\n",
        "\n",
        "\n",
        "def normalize(iq):\n",
        "  \"\"\"\n",
        "  Calculates normalized values for iq_sweep_burst matrix:\n",
        "  (vlaue-mean)/std.\n",
        "  \"\"\"\n",
        "  m = iq.mean()\n",
        "  s = iq.std()\n",
        "  return (iq-m)/s\n",
        "\n",
        "\n",
        "def data_preprocess(data):\n",
        "  \"\"\"\n",
        "  Preforms data preprocessing.\n",
        "  Change target_type lables from string to integer:\n",
        "  'human'  --> 1\n",
        "  'animal' --> 0\n",
        "\n",
        "  Arguments:\n",
        "    data -- {ndarray} -- the data set\n",
        "\n",
        "  Returns:\n",
        "    processed data (max values by doppler burst, DFT, normalization)\n",
        "  \"\"\"\n",
        "  X=[]\n",
        "  for i in range(len(data['iq_sweep_burst'])):\n",
        "    iq = fft(data['iq_sweep_burst'][i])\n",
        "    iq = max_value_on_doppler(iq,data['doppler_burst'][i])\n",
        "    iq = normalize(iq)\n",
        "    X.append(iq)\n",
        "\n",
        "  data['iq_sweep_burst'] = np.array(X)\n",
        "  if 'target_type' in data:\n",
        "    data['target_type'][data['target_type'] == 'animal'] = 0\n",
        "    data['target_type'][data['target_type'] == 'human'] = 1\n",
        "  return data"
      ],
      "execution_count": 6,
      "outputs": []
    },
    {
      "cell_type": "markdown",
      "metadata": {
        "id": "-j6KvZouVfP6",
        "colab_type": "text"
      },
      "source": [
        "### **Splitting the Training set**\n",
        "\n",
        "The functions below split the training set into Train and Validation sets.\n",
        "\n",
        "* Validation Set.   \n",
        "The validation set is constructed from segments from geolocation_ids 1 and 4.   \n",
        "These geolocations' target_type distributions are balanced.\n",
        "To create a fair representation of the test set   \n",
        "(one segment form each track) every sixth segment was taken to the validation set.   \n",
        "The reason is that approximately 75% of the tracks have less than 6 segments (see the [Descriptive Statistics notebook](https://colab.research.google.com/drive/11Lzihg2vKIbo4KAIIJxW5CRZIncoWgtL?usp=sharing)),   \n",
        "it guarantees that most of the segments in the validation set are not from the same track.   \n",
        "   \n",
        "* Adding \"human\" segments to the training set.   \n",
        "The training set is imbalanced (more animals than humans, see the [Descriptive Statistics notebook](https://colab.research.google.com/drive/11Lzihg2vKIbo4KAIIJxW5CRZIncoWgtL?usp=sharing).   \n",
        "One can address this issue by taking segements of humans from the \"Auxiliary Experiment Set\".   \n",
        "The first 3 segments from each track are taken into the training set (or less if the track is shorter than 3 segments)."
      ]
    },
    {
      "cell_type": "code",
      "metadata": {
        "id": "foTpFmn9VfP7",
        "colab_type": "code",
        "colab": {}
      },
      "source": [
        "# Function for splitting the data to training and validation\n",
        "# and function for selecting samples of segments from the Auxiliary dataset\n",
        "def split_train_val(data):\n",
        "  \"\"\"\n",
        "  Split the data to train and validation set.\n",
        "  The validation set is built from training set segments of \n",
        "  geolocation_id 1 and 4. \n",
        "  Use the function only after the training set is complete and preprocessed. \n",
        "\n",
        "  Arguments:\n",
        "    data -- {ndarray} -- the data set to split\n",
        "\n",
        "  Returns:\n",
        "    iq_sweep_burst ndarray matrices\n",
        "    target_type vector \n",
        "    for training and validation sets\n",
        "  \"\"\"\n",
        "  idx = ((data['geolocation_id'] == 4) | (data['geolocation_id'] == 1))\\\n",
        "   & (data['segment_id'] % 6 == 0)\n",
        "  training_x = data['iq_sweep_burst'][np.logical_not(idx)]\n",
        "  training_y = data['target_type'][np.logical_not(idx)]\n",
        "  validation_x = data['iq_sweep_burst'][idx]\n",
        "  validation_y = data['target_type'][idx]\n",
        "  return training_x, training_y, validation_x, validation_y\n",
        "\n",
        "def aux_split(data):\n",
        "  \"\"\"\n",
        "  Selects segments from the auxilary set for training set.\n",
        "  Takes the first 3 segments (or less) from each track.\n",
        "\n",
        "  Arguments:\n",
        "    data {dataframe} -- the auxilary data\n",
        "\n",
        "  Returns:\n",
        "    The auxilary data for the training\n",
        "  \"\"\"\n",
        "  idx = np.bool_(np.zeros(len(data['track_id'])))\n",
        "  for track in np.unique(data['track_id']):\n",
        "    idx |= data['segment_id']==(data['segment_id'][data['track_id'] == track][:3])\n",
        "  \n",
        "  for key in data:\n",
        "    data[key] = data[key][idx]\n",
        "  return data"
      ],
      "execution_count": 7,
      "outputs": []
    },
    {
      "cell_type": "markdown",
      "metadata": {
        "id": "JV1d8XeMg-Cq",
        "colab_type": "text"
      },
      "source": [
        "# Model VGG16 "
      ]
    },
    {
      "cell_type": "code",
      "metadata": {
        "id": "hInFfu8jct_q",
        "colab_type": "code",
        "colab": {}
      },
      "source": [
        "from tensorflow.keras.applications.vgg16 import VGG16\n",
        "def create_vgg_model(input_shape):\n",
        "  model = VGG16(weights='imagenet',include_top=False,input_shape= input_shape)\n",
        "  # model = VGG16(weights='imagenet',include_top=False, input_shape)\n",
        "  return model"
      ],
      "execution_count": 8,
      "outputs": []
    },
    {
      "cell_type": "code",
      "metadata": {
        "id": "Cgqf_KFGd5ss",
        "colab_type": "code",
        "colab": {}
      },
      "source": [
        "def extract_features(model,train_X,valid_X,batch_size):\n",
        "    train_features = model.predict(np.array(train_X), batch_size, verbose=1)\n",
        "    val_features = model.predict(np.array(valid_X), batch_size, verbose=1)\n",
        "    # Current shape of features\n",
        "    print(train_features.shape, \"\\n\", val_features.shape)\n",
        "    return train_features,val_features\n",
        "    "
      ],
      "execution_count": 9,
      "outputs": []
    },
    {
      "cell_type": "code",
      "metadata": {
        "id": "vEglfoMjfcEg",
        "colab_type": "code",
        "colab": {}
      },
      "source": [
        "def flatten_extracted_features(train_features,val_features):\n",
        "    train_features_flat = np.reshape(train_features, (6568, 3*1*512))\n",
        "    val_features_flat = np.reshape(val_features, (309, 3*1*512))\n",
        "    return train_features_flat,val_features_flat"
      ],
      "execution_count": 23,
      "outputs": []
    },
    {
      "cell_type": "markdown",
      "metadata": {
        "id": "170f5Pcgk5gF",
        "colab_type": "text"
      },
      "source": [
        "## **Model**"
      ]
    },
    {
      "cell_type": "markdown",
      "metadata": {
        "id": "QrGpOOCGgVdz",
        "colab_type": "text"
      },
      "source": [
        "### **CNN Model**\n",
        "The model has two convolutional layers, both followed by max-pooling layers.    \n",
        "Those layers are followed by 2 fully-connected (dense) layers, activated with a ReLU function and regularized with   \n",
        "L2 regularization, followed by a final output layer with a single neuron with a Sigmoid activation function,   \n",
        "used for final binary classification."
      ]
    },
    {
      "cell_type": "code",
      "metadata": {
        "id": "Fm-o5mr6gT7i",
        "colab_type": "code",
        "colab": {}
      },
      "source": [
        "# Building the model\n",
        "def create_model(input_shape, init):\n",
        "  \"\"\"\n",
        "  CNN model.\n",
        "\n",
        "  Arguments:\n",
        "    input_shape -- the shape of our input\n",
        "    init -- the weight initialization\n",
        "\n",
        "  Returns:\n",
        "    CNN model    \n",
        "  \"\"\"\n",
        "  model = Sequential()\n",
        "  model.add(Conv2D(16, kernel_size=(3, 3), activation='relu', kernel_initializer = init, bias_regularizer='l2', input_shape=input_shape))\n",
        "  model.add(MaxPooling2D(pool_size=(2, 2)))\n",
        "  model.add(Conv2D(32, kernel_size=(3, 3), activation='relu', kernel_initializer = init, bias_regularizer='l2'))\n",
        "  model.add(MaxPooling2D(pool_size=(2, 2)))\n",
        "  model.add(Flatten())\n",
        "  model.add(Dense(128, kernel_regularizer = 'l2', activation='relu', kernel_initializer = init))\n",
        "  model.add(Dense(32, kernel_regularizer = 'l2', activation='relu', kernel_initializer = init))\n",
        "  model.add(Dense(1, activation='sigmoid', kernel_initializer = init))\n",
        "  return model"
      ],
      "execution_count": 8,
      "outputs": []
    },
    {
      "cell_type": "markdown",
      "metadata": {
        "id": "q6VRmYQ6VfP_",
        "colab_type": "text"
      },
      "source": [
        "### **Evaluation and Visualization of Model's results**"
      ]
    },
    {
      "cell_type": "code",
      "metadata": {
        "id": "WkSravW5VfP_",
        "colab_type": "code",
        "colab": {}
      },
      "source": [
        "# Function for calculating the final ROC-AUC score and plot the ROC curve,\n",
        "# used in the \"Results\" section\n",
        "def stats(pred, actual):\n",
        "  \"\"\"\n",
        "  Computes the model ROC-AUC score and plots the ROC curve.\n",
        "\n",
        "  Arguments:\n",
        "    pred -- {ndarray} -- model's probability predictions\n",
        "    actual -- the true lables\n",
        "\n",
        "  Returns:\n",
        "    ROC curve graph and ROC-AUC score\n",
        "  \"\"\"\n",
        "  plt.figure(figsize=(20, 10))\n",
        "  fpr1, tpr1, _ = roc_curve(actual[0], pred[0])\n",
        "  fpr2, tpr2, _ = roc_curve(actual[1], pred[1])\n",
        "  roc_auc = [auc(fpr1, tpr1), auc(fpr2, tpr2)]\n",
        "  lw = 2\n",
        "  plt.plot(fpr1, tpr1, lw=lw, label='Training set (ROC-AUC = %0.2f)' % roc_auc[0])\n",
        "  plt.plot(fpr2, tpr2, lw=lw, label='Validation set (ROC-AUC = %0.2f)' % roc_auc[1])\n",
        "  plt.plot([0, 1], [0, 1], color='black', lw=lw, linestyle='--', label = 'Random guess')\n",
        "  plt.xlim([0.0, 1.0])\n",
        "  plt.ylim([0.0, 1.05])\n",
        "  plt.xlabel('False Positive Rate', fontsize=18)\n",
        "  plt.ylabel('True Positive Rate', fontsize=18)\n",
        "  plt.title('Training set vs. Validation set ROC curves')\n",
        "  plt.legend(loc=\"lower right\", prop = {'size': 20})\n",
        "  plt.show()"
      ],
      "execution_count": 9,
      "outputs": []
    },
    {
      "cell_type": "markdown",
      "metadata": {
        "id": "ByTli3H1VfQD",
        "colab_type": "text"
      },
      "source": [
        "## **Training The Model**"
      ]
    },
    {
      "cell_type": "code",
      "metadata": {
        "id": "CKvhQs_9gpVN",
        "colab_type": "code",
        "colab": {}
      },
      "source": [
        "# Loading and preparing the data\n",
        "\n",
        "# Loading Auxiliary Experiment set - can take a few minutes\n",
        "experiment_auxiliary = 'MAFAT RADAR Challenge - Auxiliary Experiment Set V2'\n",
        "\n",
        "experiment_auxiliary_df = load_data(experiment_auxiliary)"
      ],
      "execution_count": 11,
      "outputs": []
    },
    {
      "cell_type": "code",
      "metadata": {
        "id": "AMDQ4YgSN_fW",
        "colab_type": "code",
        "colab": {
          "base_uri": "https://localhost:8080/",
          "height": 55
        },
        "outputId": "e28c7318-996c-4798-ce49-0bb05627e8ce"
      },
      "source": [
        "# Taking sample from the Auxiliary Experiment set\n",
        "train_aux = aux_split(experiment_auxiliary_df)"
      ],
      "execution_count": 12,
      "outputs": [
        {
          "output_type": "stream",
          "text": [
            "/usr/local/lib/python3.6/dist-packages/ipykernel_launcher.py:38: DeprecationWarning: elementwise comparison failed; this will raise an error in the future.\n"
          ],
          "name": "stderr"
        }
      ]
    },
    {
      "cell_type": "code",
      "metadata": {
        "id": "ZcsTx2T_2Uzk",
        "colab_type": "code",
        "colab": {}
      },
      "source": [
        "# The function append_dict is for concatenating the training set \n",
        "# with the Auxiliary data set segments\n",
        "\n",
        "def append_dict(dict1, dict2):\n",
        "  for key in dict1:\n",
        "    dict1[key] = np.concatenate([dict1[key], dict2[key]], axis=0)\n",
        "  return dict1"
      ],
      "execution_count": 13,
      "outputs": []
    },
    {
      "cell_type": "code",
      "metadata": {
        "id": "xqdUzjrN-U6f",
        "colab_type": "code",
        "colab": {}
      },
      "source": [
        "# Training set\n",
        "train_path = 'MAFAT RADAR Challenge - Training Set V1'\n",
        "training_df = load_data(train_path)\n",
        "\n",
        "# Adding segments from the experiment auxiliary set to the training set\n",
        "train_df = append_dict(training_df, train_aux)\n",
        "\n",
        "# Preprocessing and split the data to training and validation\n",
        "train_df = data_preprocess(train_df.copy())\n",
        "train_x, train_y, val_x, val_y = split_train_val(train_df)\n",
        "\n",
        "# val_y =  val_y.astype(int)\n",
        "# train_y =train_y.astype(int)\n",
        "# train_x = train_x.reshape(list(train_x.shape)+[1])\n",
        "# val_x = val_x.reshape(list(val_x.shape)+[1])\n",
        "\n"
      ],
      "execution_count": 14,
      "outputs": []
    },
    {
      "cell_type": "code",
      "metadata": {
        "id": "PdawR-5UoFao",
        "colab_type": "code",
        "colab": {
          "base_uri": "https://localhost:8080/",
          "height": 35
        },
        "outputId": "5bfafbcd-3c58-44c8-bf9e-f434a767f71d"
      },
      "source": [
        "print(train_x.shape,val_x.shape)"
      ],
      "execution_count": 15,
      "outputs": [
        {
          "output_type": "stream",
          "text": [
            "(6568, 126, 32) (309, 126, 32)\n"
          ],
          "name": "stdout"
        }
      ]
    },
    {
      "cell_type": "code",
      "metadata": {
        "id": "BZk7ZKOGb6tM",
        "colab_type": "code",
        "colab": {}
      },
      "source": [
        "# Public test set - loading and preprocessing\n",
        "test_path = 'MAFAT RADAR Challenge - Public Test Set V1'\n",
        "test_df = load_data(test_path)\n",
        "test_df = data_preprocess(test_df.copy())\n",
        "test_x = test_df['iq_sweep_burst']\n",
        "test_x = test_x.reshape(list(test_x.shape)+[1])"
      ],
      "execution_count": 16,
      "outputs": []
    },
    {
      "cell_type": "code",
      "metadata": {
        "id": "mfVig_oBa63z",
        "colab_type": "code",
        "colab": {}
      },
      "source": [
        "# Model configuration:\n",
        "batch_size = 16\n",
        "img_width, img_height = 126, 32\n",
        "loss_function = BinaryCrossentropy()\n",
        "no_epochs = 10\n",
        "optimizer = Adam(learning_rate = 0.001)\n",
        "input_shape = (img_width, img_height, 1)\n",
        "\n",
        "init = tf.keras.initializers.GlorotNormal(seed = 0)\n",
        "\n",
        "# Creating and running the model\n",
        "model = create_model(input_shape, init)  \n",
        "\n",
        "model.compile(loss=loss_function, optimizer=optimizer, metrics=[AUC(), 'accuracy'])\n"
      ],
      "execution_count": 17,
      "outputs": []
    },
    {
      "cell_type": "markdown",
      "metadata": {
        "id": "EmISWmSlPXtK",
        "colab_type": "text"
      },
      "source": [
        "**Model Architecture**   \n",
        "   \n",
        "![](https://drive.google.com/uc?export=view&id=1wsJBHbghEPGT0s1QQG6BHl7MS3Yo0o4i)"
      ]
    },
    {
      "cell_type": "code",
      "metadata": {
        "id": "zALL9_enlVUx",
        "colab_type": "code",
        "colab": {
          "base_uri": "https://localhost:8080/",
          "height": 72
        },
        "outputId": "ce541176-f5a3-43b8-b7bd-6486014e9d86"
      },
      "source": [
        "print(\"before conver to 3 channels\",train_x.shape, val_x.shape)\n",
        "# Convert the images into 3 channels\n",
        "train_x=np.dstack([train_x] * 3)\n",
        "val_x=np.dstack([val_x]*3)\n",
        "print(\"before reshap\",train_x.shape, val_x.shape)\n",
        "# Reshape images as per the tensor format required by tensorflow\n",
        "train_x = train_x.reshape(-1,126,32,3)\n",
        "val_x= val_x.reshape (-1,126,32,3)\n",
        "# from keras.preprocessing.image import img_to_array, array_to_img\n",
        "# train_x = np.asarray([img_to_array(array_to_img(im, scale=False).resize((48,48))) for im in train_x])\n",
        "# val_x = np.asarray([img_to_array(array_to_img(im, scale=False).resize((48,48))) for im in val_x])\n",
        "train_x.shape, val_x.shape\n"
      ],
      "execution_count": 16,
      "outputs": [
        {
          "output_type": "stream",
          "text": [
            "before conver to 3 channels (6568, 126, 32) (309, 126, 32)\n",
            "before reshap (6568, 126, 96) (309, 126, 96)\n"
          ],
          "name": "stdout"
        },
        {
          "output_type": "execute_result",
          "data": {
            "text/plain": [
              "((6568, 126, 32, 3), (309, 126, 32, 3))"
            ]
          },
          "metadata": {
            "tags": []
          },
          "execution_count": 16
        }
      ]
    },
    {
      "cell_type": "code",
      "metadata": {
        "id": "Z1tsIC2Ahv57",
        "colab_type": "code",
        "colab": {
          "base_uri": "https://localhost:8080/",
          "height": 926
        },
        "outputId": "08198a19-11dd-44c9-c116-65d72b103327"
      },
      "source": [
        "from keras.applications.vgg16 import preprocess_input\n",
        "\n",
        "batch_size = 16\n",
        "# img_width, img_height = 48, 48\n",
        "img_width, img_height = 126, 32\n",
        "input_shape = (img_width, img_height, 3)\n",
        "\n",
        "# train_x = train_x.astype('float32')\n",
        "# val_x = val_x.astype('float32')\n",
        "# train_x = preprocess_input(train_x)\n",
        "# val_x = preprocess_input(val_x)\n",
        "\n",
        "model_vgg = create_vgg_model(input_shape)\n",
        "model_vgg.summary()\n",
        "train_features,val_features = extract_features(model_vgg,train_x,val_x,batch_size)\n"
      ],
      "execution_count": 59,
      "outputs": [
        {
          "output_type": "stream",
          "text": [
            "Model: \"vgg16\"\n",
            "_________________________________________________________________\n",
            "Layer (type)                 Output Shape              Param #   \n",
            "=================================================================\n",
            "input_5 (InputLayer)         [(None, 126, 32, 3)]      0         \n",
            "_________________________________________________________________\n",
            "block1_conv1 (Conv2D)        (None, 126, 32, 64)       1792      \n",
            "_________________________________________________________________\n",
            "block1_conv2 (Conv2D)        (None, 126, 32, 64)       36928     \n",
            "_________________________________________________________________\n",
            "block1_pool (MaxPooling2D)   (None, 63, 16, 64)        0         \n",
            "_________________________________________________________________\n",
            "block2_conv1 (Conv2D)        (None, 63, 16, 128)       73856     \n",
            "_________________________________________________________________\n",
            "block2_conv2 (Conv2D)        (None, 63, 16, 128)       147584    \n",
            "_________________________________________________________________\n",
            "block2_pool (MaxPooling2D)   (None, 31, 8, 128)        0         \n",
            "_________________________________________________________________\n",
            "block3_conv1 (Conv2D)        (None, 31, 8, 256)        295168    \n",
            "_________________________________________________________________\n",
            "block3_conv2 (Conv2D)        (None, 31, 8, 256)        590080    \n",
            "_________________________________________________________________\n",
            "block3_conv3 (Conv2D)        (None, 31, 8, 256)        590080    \n",
            "_________________________________________________________________\n",
            "block3_pool (MaxPooling2D)   (None, 15, 4, 256)        0         \n",
            "_________________________________________________________________\n",
            "block4_conv1 (Conv2D)        (None, 15, 4, 512)        1180160   \n",
            "_________________________________________________________________\n",
            "block4_conv2 (Conv2D)        (None, 15, 4, 512)        2359808   \n",
            "_________________________________________________________________\n",
            "block4_conv3 (Conv2D)        (None, 15, 4, 512)        2359808   \n",
            "_________________________________________________________________\n",
            "block4_pool (MaxPooling2D)   (None, 7, 2, 512)         0         \n",
            "_________________________________________________________________\n",
            "block5_conv1 (Conv2D)        (None, 7, 2, 512)         2359808   \n",
            "_________________________________________________________________\n",
            "block5_conv2 (Conv2D)        (None, 7, 2, 512)         2359808   \n",
            "_________________________________________________________________\n",
            "block5_conv3 (Conv2D)        (None, 7, 2, 512)         2359808   \n",
            "_________________________________________________________________\n",
            "block5_pool (MaxPooling2D)   (None, 3, 1, 512)         0         \n",
            "=================================================================\n",
            "Total params: 14,714,688\n",
            "Trainable params: 14,714,688\n",
            "Non-trainable params: 0\n",
            "_________________________________________________________________\n",
            "411/411 [==============================] - 280s 681ms/step\n",
            "20/20 [==============================] - 13s 634ms/step\n",
            "(6568, 3, 1, 512) \n",
            " (309, 3, 1, 512)\n"
          ],
          "name": "stdout"
        }
      ]
    },
    {
      "cell_type": "code",
      "metadata": {
        "id": "r9v6aggVXjHR",
        "colab_type": "code",
        "colab": {}
      },
      "source": [
        "train_features_flat,val_features_flat = flatten_extracted_features(train_features,val_features)"
      ],
      "execution_count": 60,
      "outputs": []
    },
    {
      "cell_type": "code",
      "metadata": {
        "id": "Ijj-bdYUidC0",
        "colab_type": "code",
        "colab": {
          "base_uri": "https://localhost:8080/",
          "height": 35
        },
        "outputId": "e11128d6-d817-4c1b-ade8-13ab45a4f8fe"
      },
      "source": [
        "#Import knearest neighbors Classifier model\n",
        "from sklearn.neighbors import KNeighborsClassifier\n",
        "\n",
        "#Create KNN Classifier\n",
        "knn = KNeighborsClassifier(n_neighbors=19)\n",
        "# print(train_y[:2])\n",
        "train_y = train_y.astype(int)\n",
        "val_y= val_y.astype(int)\n",
        "#Train the model using the training sets\n",
        "knn.fit(train_features_flat, train_y)\n",
        "\n",
        "\n",
        "#Predict the response for test dataset\n",
        "y_pred = knn.predict(val_features_flat)\n",
        "\n",
        "#Import scikit-learn metrics module for accuracy calculation\n",
        "from sklearn import metrics\n",
        "# Model Accuracy, how often is the classifier correct?\n",
        "print(\"Accuracy:\",metrics.accuracy_score(val_y, y_pred))\n"
      ],
      "execution_count": 73,
      "outputs": [
        {
          "output_type": "stream",
          "text": [
            "Accuracy: 0.7346278317152104\n"
          ],
          "name": "stdout"
        }
      ]
    },
    {
      "cell_type": "code",
      "metadata": {
        "id": "XlZSo0QDZdRr",
        "colab_type": "code",
        "colab": {
          "base_uri": "https://localhost:8080/",
          "height": 54
        },
        "outputId": "8f02e783-946e-4985-acdb-bc3963e9c8d1"
      },
      "source": [
        "cm = metrics.confusion_matrix(val_y, y_pred)\n",
        "print(\"KNN Classifier confusion matrix: \",cm)"
      ],
      "execution_count": 45,
      "outputs": [
        {
          "output_type": "stream",
          "text": [
            "KNN Classifier confusion matrix:  [[147  12]\n",
            " [ 64  86]]\n"
          ],
          "name": "stdout"
        }
      ]
    },
    {
      "cell_type": "code",
      "metadata": {
        "id": "iAbSvNwPZzWQ",
        "colab_type": "code",
        "colab": {
          "base_uri": "https://localhost:8080/",
          "height": 54
        },
        "outputId": "479d1815-4c4c-4942-b824-cab6fe484479"
      },
      "source": [
        "from sklearn.tree import DecisionTreeClassifier\n",
        "clf = DecisionTreeClassifier(max_depth=3)\n",
        "clf.fit(train_features_flat, train_y)\n",
        "train_y_pred_clf = clf.predict(train_features_flat)\n",
        "print(\"Train Accuracy:\",metrics.accuracy_score(train_y, train_y_pred_clf))\n",
        "y_pred_clf = clf.predict(val_features_flat)\n",
        "print(\"Validation Accuracy:\",metrics.accuracy_score(val_y, y_pred_clf))"
      ],
      "execution_count": 74,
      "outputs": [
        {
          "output_type": "stream",
          "text": [
            "Train Accuracy: 0.8844397076735688\n",
            "Validation Accuracy: 0.5792880258899676\n"
          ],
          "name": "stdout"
        }
      ]
    },
    {
      "cell_type": "code",
      "metadata": {
        "id": "vSB8PAFjbUf3",
        "colab_type": "code",
        "colab": {
          "base_uri": "https://localhost:8080/",
          "height": 54
        },
        "outputId": "2b1cc0ae-5835-4dd3-81ab-8acff0858dec"
      },
      "source": [
        "cm_clf = metrics.confusion_matrix(val_y, y_pred_clf)\n",
        "print(\"DT Classifier confusion matrix: \",cm_clf)"
      ],
      "execution_count": 58,
      "outputs": [
        {
          "output_type": "stream",
          "text": [
            "DT Classifier confusion matrix:  [[141  18]\n",
            " [ 73  77]]\n"
          ],
          "name": "stdout"
        }
      ]
    },
    {
      "cell_type": "markdown",
      "metadata": {
        "id": "xCdfbUzff2w3",
        "colab_type": "text"
      },
      "source": [
        "Plot"
      ]
    },
    {
      "cell_type": "code",
      "metadata": {
        "id": "FpxCWlTff5PG",
        "colab_type": "code",
        "colab": {
          "base_uri": "https://localhost:8080/",
          "height": 54
        },
        "outputId": "8cb6bc44-62ca-43d6-fd0c-1a30a0b3734f"
      },
      "source": [
        "from sklearn.neighbors import KNeighborsClassifier\n",
        "\n",
        "knn = KNeighborsClassifier(n_neighbors=19).fit(train_features_flat, train_y)\n",
        "print(\"Train accuracy: %.2f.\\nTest accuracy: %.2f\" % ( knn.score(train_features_flat, train_y), knn.score(val_features_flat, val_y) ))"
      ],
      "execution_count": 72,
      "outputs": [
        {
          "output_type": "stream",
          "text": [
            "Train accuracy: 0.92.\n",
            "Test accuracy: 0.74\n"
          ],
          "name": "stdout"
        }
      ]
    },
    {
      "cell_type": "code",
      "metadata": {
        "id": "OUqR4lCWgWca",
        "colab_type": "code",
        "colab": {
          "base_uri": "https://localhost:8080/",
          "height": 493
        },
        "outputId": "c16e52ef-ddf3-499d-9d85-fd32c3e0514b"
      },
      "source": [
        "ks = range(1, 41)\n",
        "train, test = [], []\n",
        "for k in ks:\n",
        "    knn = KNeighborsClassifier(n_neighbors=k).fit(train_features_flat, train_y)\n",
        "    train.append(knn.score(train_features_flat, train_y))\n",
        "    test.append(knn.score(val_features_flat, val_y))\n",
        "\n",
        "from plotnine import *\n",
        "p = (ggplot(pd.melt(pd.DataFrame({\"k\": ks, \"Train\": train, \"Test\": test}), id_vars=\"k\"), \n",
        "       aes(x=\"k\", y=\"value\", color=\"variable\")) + \n",
        " geom_line() + \n",
        " labs(x=\"Number of Neighbors\", y=\"Accuracy\", color=\"Dataset\", title=r\"$k$-NN Accuracy as Function of $k$\"))\n",
        "p"
      ],
      "execution_count": 64,
      "outputs": [
        {
          "output_type": "display_data",
          "data": {
            "image/png": "[encoded data removed]",
            "text/plain": [
              "<Figure size 640x480 with 1 Axes>"
            ]
          },
          "metadata": {
            "tags": []
          }
        },
        {
          "output_type": "execute_result",
          "data": {
            "text/plain": [
              "<ggplot: (8747474093341)>"
            ]
          },
          "metadata": {
            "tags": []
          },
          "execution_count": 64
        }
      ]
    },
    {
      "cell_type": "code",
      "metadata": {
        "id": "THHBlGCMhwUR",
        "colab_type": "code",
        "colab": {
          "base_uri": "https://localhost:8080/",
          "height": 493
        },
        "outputId": "f4236f74-30b6-49eb-e10d-43eedd207d29"
      },
      "source": [
        "from sklearn.model_selection import GridSearchCV\n",
        "\n",
        "# Specifying values to scan. Dictionary keys correspond to arguments passed to model's constructor.\n",
        "param_grid = {'n_neighbors':ks}\n",
        "\n",
        "# Perform the Cross-Validation (with 5 folds) over all combinations of parameter values specified in dictionary\n",
        "knn_cv = GridSearchCV(KNeighborsClassifier(), param_grid, cv=5).fit(train_features_flat, train_y)\n",
        "\n",
        "opt_k = knn_cv.best_params_[\"n_neighbors\"]\n",
        "opt_score = knn_cv.best_score_\n",
        "\n",
        "(p + geom_point(data=pd.DataFrame({\"k\": ks ,\"cv\": knn_cv.cv_results_[\"mean_test_score\"]}), \n",
        "               mapping=aes(x=\"k\", y=\"cv\"), color=\"black\") + \n",
        " geom_point(aes(x=opt_k, y=opt_score), color=\"Red\", size=2) + \n",
        " geom_text(label=r\"Opt $k$: %d; Score: %.2f\" % (opt_k, round(opt_score, 2)), x=opt_k + 4, y= opt_score + .1, color=\"black\") +\n",
        " labs(title=r\"$k$-NN Accuracy With Cross Validation\"))"
      ],
      "execution_count": 65,
      "outputs": [
        {
          "output_type": "display_data",
          "data": {
            "image/png": "[encoded data removed]",
            "text/plain": [
              "<Figure size 640x480 with 1 Axes>"
            ]
          },
          "metadata": {
            "tags": []
          }
        },
        {
          "output_type": "execute_result",
          "data": {
            "text/plain": [
              "<ggplot: (8747462524385)>"
            ]
          },
          "metadata": {
            "tags": []
          },
          "execution_count": 65
        }
      ]
    },
    {
      "cell_type": "code",
      "metadata": {
        "id": "loYewJEht9S9",
        "colab_type": "code",
        "colab": {
          "base_uri": "https://localhost:8080/",
          "height": 491
        },
        "outputId": "fa6459f1-8819-4ade-cbfb-c087d8932d93"
      },
      "source": [
        "from sklearn.model_selection import GridSearchCV\n",
        "\n",
        "ts = range(1, 41)\n",
        "train, test = [], []\n",
        "for t in ts:\n",
        "    dt = DecisionTreeClassifier(max_depth=t).fit(train_features_flat, train_y)\n",
        "    train.append(dt.score(train_features_flat, train_y))\n",
        "    test.append(dt.score(val_features_flat, val_y))\n",
        "\n",
        "from plotnine import *\n",
        "p = (ggplot(pd.melt(pd.DataFrame({\"t\": ts, \"Train\": train, \"Test\": test}), id_vars=\"t\"), \n",
        "       aes(x=\"t\", y=\"value\", color=\"variable\")) + \n",
        " geom_line() + \n",
        " labs(x=\"Max Depth\", y=\"Accuracy\", color=\"Dataset\", title=r\"$DT Accuracy as Function of $t$\"))\n",
        "p\n"
      ],
      "execution_count": 69,
      "outputs": [
        {
          "output_type": "display_data",
          "data": {
            "image/png": "[encoded data removed]",
            "text/plain": [
              "<Figure size 640x480 with 1 Axes>"
            ]
          },
          "metadata": {
            "tags": []
          }
        },
        {
          "output_type": "execute_result",
          "data": {
            "text/plain": [
              "<ggplot: (8747462398065)>"
            ]
          },
          "metadata": {
            "tags": []
          },
          "execution_count": 69
        }
      ]
    },
    {
      "cell_type": "code",
      "metadata": {
        "id": "b0NhtMi04ORV",
        "colab_type": "code",
        "colab": {
          "base_uri": "https://localhost:8080/",
          "height": 493
        },
        "outputId": "7038f8bc-928d-4d47-c795-3d0212b5a7d0"
      },
      "source": [
        "# Specifying values to scan. Dictionary keys correspond to arguments passed to model's constructor.\n",
        "param_grid_t = {'max_depth':ts}\n",
        "\n",
        "# Perform the Cross-Validation (with 5 folds) over all combinations of parameter values specified in dictionary\n",
        "dt_cv = GridSearchCV(DecisionTreeClassifier(), param_grid_t, cv=5).fit(train_features_flat, train_y)\n",
        "\n",
        "opt_t = dt_cv.best_params_[\"max_depth\"]\n",
        "opt_score_t = dt_cv.best_score_\n",
        "\n",
        "(p + geom_point(data=pd.DataFrame({\"t\": ts ,\"cv\": dt_cv.cv_results_[\"mean_test_score\"]}), \n",
        "               mapping=aes(x=\"t\", y=\"cv\"), color=\"black\") + \n",
        " geom_point(aes(x=opt_t, y=opt_score), color=\"Red\", size=2) + \n",
        " geom_text(label=r\"Opt $k$: %d; Score: %.2f\" % (opt_t, round(opt_score_t, 2)), x=opt_t + 4, y= opt_score_t + .1, color=\"black\") +\n",
        " labs(title=r\"$T$-DT Accuracy With Cross Validation\"))"
      ],
      "execution_count": 75,
      "outputs": [
        {
          "output_type": "display_data",
          "data": {
            "image/png": "[encoded data removed]",
            "text/plain": [
              "<Figure size 640x480 with 1 Axes>"
            ]
          },
          "metadata": {
            "tags": []
          }
        },
        {
          "output_type": "execute_result",
          "data": {
            "text/plain": [
              "<ggplot: (8747481242060)>"
            ]
          },
          "metadata": {
            "tags": []
          },
          "execution_count": 75
        }
      ]
    },
    {
      "cell_type": "code",
      "metadata": {
        "id": "9ZVukitT3-cn",
        "colab_type": "code",
        "colab": {
          "base_uri": "https://localhost:8080/",
          "height": 454
        },
        "outputId": "1621ae64-3bca-4287-d3b5-ce380d733f88"
      },
      "source": [
        "model.summary()"
      ],
      "execution_count": 18,
      "outputs": [
        {
          "output_type": "stream",
          "text": [
            "Model: \"sequential\"\n",
            "_________________________________________________________________\n",
            "Layer (type)                 Output Shape              Param #   \n",
            "=================================================================\n",
            "conv2d (Conv2D)              (None, 124, 30, 16)       160       \n",
            "_________________________________________________________________\n",
            "max_pooling2d (MaxPooling2D) (None, 62, 15, 16)        0         \n",
            "_________________________________________________________________\n",
            "conv2d_1 (Conv2D)            (None, 60, 13, 32)        4640      \n",
            "_________________________________________________________________\n",
            "max_pooling2d_1 (MaxPooling2 (None, 30, 6, 32)         0         \n",
            "_________________________________________________________________\n",
            "flatten (Flatten)            (None, 5760)              0         \n",
            "_________________________________________________________________\n",
            "dense (Dense)                (None, 128)               737408    \n",
            "_________________________________________________________________\n",
            "dense_1 (Dense)              (None, 32)                4128      \n",
            "_________________________________________________________________\n",
            "dense_2 (Dense)              (None, 1)                 33        \n",
            "=================================================================\n",
            "Total params: 746,369\n",
            "Trainable params: 746,369\n",
            "Non-trainable params: 0\n",
            "_________________________________________________________________\n"
          ],
          "name": "stdout"
        }
      ]
    },
    {
      "cell_type": "code",
      "metadata": {
        "id": "3PXlRHub7ae-",
        "colab_type": "code",
        "colab": {
          "base_uri": "https://localhost:8080/",
          "height": 401
        },
        "outputId": "845f7592-4265-4bd7-e7f9-de4275059bea"
      },
      "source": [
        "# Model fit\n",
        "history = model.fit(train_x, train_y, batch_size = batch_size, epochs = no_epochs, \n",
        "                    validation_data = (val_x, val_y))"
      ],
      "execution_count": 19,
      "outputs": [
        {
          "output_type": "stream",
          "text": [
            "Epoch 1/10\n",
            "411/411 [==============================] - 2s 6ms/step - loss: 0.4956 - auc: 0.9303 - accuracy: 0.9039 - val_loss: 0.5885 - val_auc: 0.8116 - val_accuracy: 0.7476\n",
            "Epoch 2/10\n",
            "411/411 [==============================] - 2s 5ms/step - loss: 0.2341 - auc: 0.9518 - accuracy: 0.9222 - val_loss: 0.5351 - val_auc: 0.8668 - val_accuracy: 0.7540\n",
            "Epoch 3/10\n",
            "411/411 [==============================] - 2s 5ms/step - loss: 0.2053 - auc: 0.9626 - accuracy: 0.9339 - val_loss: 0.4554 - val_auc: 0.8998 - val_accuracy: 0.8220\n",
            "Epoch 4/10\n",
            "411/411 [==============================] - 2s 5ms/step - loss: 0.1823 - auc: 0.9705 - accuracy: 0.9412 - val_loss: 0.5214 - val_auc: 0.9031 - val_accuracy: 0.7994\n",
            "Epoch 5/10\n",
            "411/411 [==============================] - 2s 5ms/step - loss: 0.1684 - auc: 0.9756 - accuracy: 0.9460 - val_loss: 0.4233 - val_auc: 0.9118 - val_accuracy: 0.8220\n",
            "Epoch 6/10\n",
            "411/411 [==============================] - 2s 5ms/step - loss: 0.1603 - auc: 0.9764 - accuracy: 0.9490 - val_loss: 0.4468 - val_auc: 0.9323 - val_accuracy: 0.8188\n",
            "Epoch 7/10\n",
            "411/411 [==============================] - 2s 5ms/step - loss: 0.1592 - auc: 0.9768 - accuracy: 0.9499 - val_loss: 0.3931 - val_auc: 0.9237 - val_accuracy: 0.8447\n",
            "Epoch 8/10\n",
            "411/411 [==============================] - 2s 5ms/step - loss: 0.1556 - auc: 0.9779 - accuracy: 0.9508 - val_loss: 0.3769 - val_auc: 0.9344 - val_accuracy: 0.8641\n",
            "Epoch 9/10\n",
            "411/411 [==============================] - 2s 5ms/step - loss: 0.1529 - auc: 0.9795 - accuracy: 0.9496 - val_loss: 0.3597 - val_auc: 0.9355 - val_accuracy: 0.8641\n",
            "Epoch 10/10\n",
            "411/411 [==============================] - 2s 5ms/step - loss: 0.1445 - auc: 0.9824 - accuracy: 0.9563 - val_loss: 0.3516 - val_auc: 0.9378 - val_accuracy: 0.8544\n"
          ],
          "name": "stdout"
        }
      ]
    },
    {
      "cell_type": "markdown",
      "metadata": {
        "id": "r3Rx56zVdb3T",
        "colab_type": "text"
      },
      "source": [
        "#### **Results**\n",
        "Submissions are evaluated on the area under the Receiver Operating Characteristic Curve ([ROC AUC](https://en.wikipedia.org/wiki/Receiver_operating_characteristic))   \n",
        "on the predicted probabilities, as calculated by [roc_auc_score in scikit-learn (v 0.23.1)](https://scikit-learn.org/stable/modules/generated/sklearn.metrics.roc_auc_score.html).\n"
      ]
    },
    {
      "cell_type": "code",
      "metadata": {
        "id": "1RCwJ8CWoLyJ",
        "colab_type": "code",
        "colab": {
          "base_uri": "https://localhost:8080/",
          "height": 406
        },
        "outputId": "c062b068-a9aa-4750-83ea-36ac05b0afc0"
      },
      "source": [
        "# Plot ROC curve and show ROC-AUC results of the training and validation sets. \n",
        "pred = [model.predict(train_x), model.predict(val_x)]\n",
        "actual = [train_y, val_y]\n",
        "stats(pred, actual)"
      ],
      "execution_count": 20,
      "outputs": [
        {
          "output_type": "display_data",
          "data": {
            "image/png": "[encoded data removed]",
            "text/plain": [
              "<Figure size 1440x720 with 1 Axes>"
            ]
          },
          "metadata": {
            "tags": [],
            "needs_background": "light"
          }
        }
      ]
    },
    {
      "cell_type": "markdown",
      "metadata": {
        "id": "wrLzeJJroRtn",
        "colab_type": "text"
      },
      "source": [
        "## **Final Submission File**"
      ]
    },
    {
      "cell_type": "markdown",
      "metadata": {
        "id": "Wn6lmtdlE-hU",
        "colab_type": "text"
      },
      "source": [
        "Create a CSV submission file , zip and download it."
      ]
    },
    {
      "cell_type": "code",
      "metadata": {
        "id": "_xnZkjgU6eRH",
        "colab_type": "code",
        "colab": {}
      },
      "source": [
        "# Creating DataFrame with the probability prediction for each segment\n",
        "submission =  pd.DataFrame()\n",
        "submission['segment_id'] = test_df['segment_id']\n",
        "submission['prediction'] = model.predict(test_x)\n",
        "submission['prediction'] = submission['prediction'].astype('float')\n",
        "\n",
        "# Save submission\n",
        "submission.to_csv('submission.csv', index=False)"
      ],
      "execution_count": null,
      "outputs": []
    },
    {
      "cell_type": "code",
      "metadata": {
        "id": "jheQSZzg_Lkk",
        "colab_type": "code",
        "colab": {
          "base_uri": "https://localhost:8080/",
          "height": 17
        },
        "outputId": "103a7762-c3a1-4eba-9cdb-3d44605c8456"
      },
      "source": [
        "# Download zip file\n",
        "from zipfile import ZipFile\n",
        "from google.colab import files\n",
        "\n",
        "with ZipFile('submission.zip', 'w') as myzip:\n",
        "  myzip.write('submission.csv')\n",
        "\n",
        "files.download('submission.zip')\n"
      ],
      "execution_count": null,
      "outputs": [
        {
          "output_type": "display_data",
          "data": {
            "application/javascript": [
              "\n",
              "    async function download(id, filename, size) {\n",
              "      if (!google.colab.kernel.accessAllowed) {\n",
              "        return;\n",
              "      }\n",
              "      const div = document.createElement('div');\n",
              "      const label = document.createElement('label');\n",
              "      label.textContent = `Downloading \"${filename}\": `;\n",
              "      div.appendChild(label);\n",
              "      const progress = document.createElement('progress');\n",
              "      progress.max = size;\n",
              "      div.appendChild(progress);\n",
              "      document.body.appendChild(div);\n",
              "\n",
              "      const buffers = [];\n",
              "      let downloaded = 0;\n",
              "\n",
              "      const channel = await google.colab.kernel.comms.open(id);\n",
              "      // Send a message to notify the kernel that we're ready.\n",
              "      channel.send({})\n",
              "\n",
              "      for await (const message of channel.messages) {\n",
              "        // Send a message to notify the kernel that we're ready.\n",
              "        channel.send({})\n",
              "        if (message.buffers) {\n",
              "          for (const buffer of message.buffers) {\n",
              "            buffers.push(buffer);\n",
              "            downloaded += buffer.byteLength;\n",
              "            progress.value = downloaded;\n",
              "          }\n",
              "        }\n",
              "      }\n",
              "      const blob = new Blob(buffers, {type: 'application/binary'});\n",
              "      const a = document.createElement('a');\n",
              "      a.href = window.URL.createObjectURL(blob);\n",
              "      a.download = filename;\n",
              "      div.appendChild(a);\n",
              "      a.click();\n",
              "      div.remove();\n",
              "    }\n",
              "  "
            ],
            "text/plain": [
              "<IPython.core.display.Javascript object>"
            ]
          },
          "metadata": {
            "tags": []
          }
        },
        {
          "output_type": "display_data",
          "data": {
            "application/javascript": [
              "download(\"download_2342289c-70d5-4d86-8a60-4e1e88891f3b\", \"submission.zip\", 2764)"
            ],
            "text/plain": [
              "<IPython.core.display.Javascript object>"
            ]
          },
          "metadata": {
            "tags": []
          }
        }
      ]
    }
  ]
}